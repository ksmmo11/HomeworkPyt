{
  "cells": [
    {
      "cell_type": "markdown",
      "id": "f238505e",
      "metadata": {
        "id": "f238505e"
      },
      "source": [
        "# ДЗ1\n",
        "\n",
        "Дедлайн: 15 сентября 16:00\n",
        "\n",
        "### Пункт 0\n",
        "\n",
        "Посмотрите тетрадку с семинара, спросите непонятное. При желании посмотрите первую неделю онлайн-курса по питону.\n",
        "\n",
        "### Основная часть\n",
        "Спрашивать всё что угодно можно, просить подсказки тоже. Это ваше первое дз."
      ]
    },
    {
      "cell_type": "markdown",
      "id": "4f890425",
      "metadata": {
        "id": "4f890425"
      },
      "source": [
        "**Задание 1.** Напишите код, берущий два числа у пользователя и выдающий их сумму"
      ]
    },
    {
      "cell_type": "code",
      "execution_count": null,
      "id": "1614bb96",
      "metadata": {
        "id": "1614bb96"
      },
      "outputs": [],
      "source": [
        "a = input()\n",
        "b = input()\n",
        "print(int(a) + int(b))"
      ]
    },
    {
      "cell_type": "markdown",
      "id": "51032dbc",
      "metadata": {
        "id": "51032dbc"
      },
      "source": [
        "**Задание 2.** 163170 минут. Сколько это дней, часов и минут?\n",
        "\n",
        "*Подсказка: вам могут пригодиться операторы `//` и `%`*"
      ]
    },
    {
      "cell_type": "code",
      "execution_count": null,
      "id": "f66c1f04",
      "metadata": {
        "id": "f66c1f04",
        "outputId": "ba7edcf5-a132-462b-93d4-5fea3a5e6608",
        "colab": {
          "base_uri": "https://localhost:8080/"
        }
      },
      "outputs": [
        {
          "output_type": "stream",
          "name": "stdout",
          "text": [
            "30\n",
            "7\n",
            "113\n"
          ]
        }
      ],
      "source": [
        "a = 163170\n",
        "print(a%60)\n",
        "print(a//60%24)\n",
        "print(a//60//24)"
      ]
    },
    {
      "cell_type": "markdown",
      "id": "999afc55",
      "metadata": {
        "id": "999afc55"
      },
      "source": [
        "(можно подумать, что это за время такое)"
      ]
    }
  ],
  "metadata": {
    "kernelspec": {
      "display_name": "Python 3 (ipykernel)",
      "language": "python",
      "name": "python3"
    },
    "language_info": {
      "codemirror_mode": {
        "name": "ipython",
        "version": 3
      },
      "file_extension": ".py",
      "mimetype": "text/x-python",
      "name": "python",
      "nbconvert_exporter": "python",
      "pygments_lexer": "ipython3",
      "version": "3.9.16"
    },
    "colab": {
      "provenance": []
    }
  },
  "nbformat": 4,
  "nbformat_minor": 5
}